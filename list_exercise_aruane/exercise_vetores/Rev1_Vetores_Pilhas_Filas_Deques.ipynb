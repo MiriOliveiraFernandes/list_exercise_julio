{
  "nbformat": 4,
  "nbformat_minor": 0,
  "metadata": {
    "colab": {
      "provenance": []
    },
    "kernelspec": {
      "name": "python3",
      "display_name": "Python 3"
    },
    "language_info": {
      "name": "python"
    }
  },
  "cells": [
    {
      "cell_type": "markdown",
      "source": [
        "# 1. Vetor Não Ordenado – Inserção\n",
        "**Conceito:** Um vetor (lista) não ordenado é uma estrutura simples. Podemos adicionar\n",
        "elementos no final sem nos preocupar com a ordem. Usamos o comando append().\n",
        "\n",
        "**Enunciado:**\n",
        "Crie um vetor chamado numeros e insira os valores 5, 8, 1 e 3. Depois, insira o número 10 no\n",
        "final usando append()."
      ],
      "metadata": {
        "id": "s3LD1dT0cumG"
      }
    },
    {
      "cell_type": "code",
      "execution_count": null,
      "metadata": {
        "colab": {
          "base_uri": "https://localhost:8080/"
        },
        "id": "3KeEsNHybLGE",
        "outputId": "2d271874-96bd-48e3-a5da-e8429c36f223"
      },
      "outputs": [
        {
          "output_type": "stream",
          "name": "stdout",
          "text": [
            "[5, 8, 1, 3, 10]\n"
          ]
        }
      ],
      "source": [
        "numeros = [5,8,1,3]\n",
        "numeros.append(10)\n",
        "print(numeros)"
      ]
    },
    {
      "cell_type": "markdown",
      "source": [
        "# 2. Vetor Não Ordenado – Busca Linear\n",
        "**Conceito**: Para procurar um valor em um vetor não ordenado, precisamos verificar um por um até encontrar. Isso é chamado de busca linear.\n",
        "\n",
        "**Enunciado**:\n",
        "Dado o vetor numeros = [5, 8, 1, 3, 10], crie um"
      ],
      "metadata": {
        "id": "SfKspw_GhTbs"
      }
    },
    {
      "cell_type": "code",
      "source": [
        "valor_desejado = 8\n",
        "for i in numeros:\n",
        "  if i == valor_desejado:\n",
        "    print(f\"o {valor_desejado} está na lista, e ocupa a posição {numeros.index(i)}\")"
      ],
      "metadata": {
        "colab": {
          "base_uri": "https://localhost:8080/"
        },
        "id": "1mNKmRAHeo_8",
        "outputId": "07f477b6-377b-45a1-f2fd-de7996049d13"
      },
      "execution_count": null,
      "outputs": [
        {
          "output_type": "stream",
          "name": "stdout",
          "text": [
            "o 8 está na lista, e ocupa a posição 1\n"
          ]
        }
      ]
    },
    {
      "cell_type": "markdown",
      "source": [
        "# 3. Vetor Não Ordenado – Exclusão\n",
        "**Conceito:** Para remover um valor de um vetor, primeiro precisamos encontrar sua posição,depois usar o comando remove() ou pop().\n",
        "\n",
        "**Enunciado:**\n",
        "Dado o vetor numeros = [5, 8, 1, 3, 10], remova o número 1 e mostre o vetor depois da exclusão.\n"
      ],
      "metadata": {
        "id": "TTelk2dEi_mE"
      }
    },
    {
      "cell_type": "code",
      "source": [
        "valor_deletar = 1\n",
        "for i in numeros:\n",
        "  if i == valor_deletar:\n",
        "    numeros.remove(valor_deletar)\n",
        "print(numeros)"
      ],
      "metadata": {
        "colab": {
          "base_uri": "https://localhost:8080/"
        },
        "id": "ZakNVrreij0E",
        "outputId": "206a60f6-7f13-4f40-f2f5-f2d9daf90c83"
      },
      "execution_count": null,
      "outputs": [
        {
          "output_type": "stream",
          "name": "stdout",
          "text": [
            "[5, 8, 3, 10]\n"
          ]
        }
      ]
    },
    {
      "cell_type": "markdown",
      "source": [
        "# 4. Vetor Ordenado – Inserção com Ordenação\n",
        "**Conceito:** Um vetor ordenado mantém os elementos em ordem crescente. Quando inserimos um novo valor, ele deve ser colocado no lugar certo.\n",
        "\n",
        "**Enunciado:**\n",
        "Dado o vetor ordenado = [2, 4, 7, 9], insira o número 5 no lugar correto para manter a ordem."
      ],
      "metadata": {
        "id": "Jf0EllvMldkc"
      }
    },
    {
      "cell_type": "code",
      "source": [
        "v_o = [2,4,7,9]\n",
        "ins_elemento = 5\n",
        "v_o.append(ins_elemento)\n",
        "v_o.sort()\n",
        "print(v_o)"
      ],
      "metadata": {
        "colab": {
          "base_uri": "https://localhost:8080/"
        },
        "id": "o290H5x_jrSM",
        "outputId": "611a0a03-6d80-44a0-938f-7f39fec94701"
      },
      "execution_count": null,
      "outputs": [
        {
          "output_type": "stream",
          "name": "stdout",
          "text": [
            "[2, 4, 5, 7, 9]\n"
          ]
        }
      ]
    },
    {
      "cell_type": "markdown",
      "source": [
        "# 5. Vetor Ordenado – Busca Linear com parada\n",
        "**Conceito:** Como o vetor está em ordem crescente, podemos interromper a busca se encontrarmos um número maior que o que estamos procurando.\n",
        "\n",
        "**Enunciado:** Use um laço para procurar o número 7 no vetor ordenado = [2, 4, 5, 7, 9]. Se encontrar, diga a\n",
        "posição. Se passar do número 7, pare a busca."
      ],
      "metadata": {
        "id": "tlpnv7xkoJ3k"
      }
    },
    {
      "cell_type": "code",
      "source": [
        "valor_desejado = 7\n",
        "for i in v_o:\n",
        "  if i == valor_desejado:\n",
        "    print(f\"Esta é a posição: {v_o.index(valor_desejado)} do valor desejado: {valor_desejado}\")\n",
        "  elif i > valor_desejado:\n",
        "    break"
      ],
      "metadata": {
        "colab": {
          "base_uri": "https://localhost:8080/"
        },
        "id": "kGn_l6kFldQt",
        "outputId": "7effd07c-743c-4c72-e432-757260fbd6b8"
      },
      "execution_count": null,
      "outputs": [
        {
          "output_type": "stream",
          "name": "stdout",
          "text": [
            "Esta é a posição: 3 do valor desejado: 7\n"
          ]
        }
      ]
    },
    {
      "cell_type": "markdown",
      "source": [
        "# 6. Vetor Ordenado – Exclusão\n",
        "**Conceito:** A exclusão em vetores ordenados é igual à dos vetores não ordenados, mas o vetor continua em ordem naturalmente.\n",
        "\n",
        "**Enunciado:**\n",
        "Dado o vetor ordenado = [2, 4, 5, 7, 9], remova o número 4 e mostre o vetor\n",
        "atualizado."
      ],
      "metadata": {
        "id": "3UxYcgFNrI3j"
      }
    },
    {
      "cell_type": "code",
      "source": [
        "vetor_o = [2,4,5,7,9]\n",
        "del_velor = 4\n",
        "for i in vetor_o:\n",
        "  if i == del_velor:\n",
        "    vetor_o.remove(i)\n",
        "print(vetor_o)"
      ],
      "metadata": {
        "colab": {
          "base_uri": "https://localhost:8080/"
        },
        "id": "j-g2ixsxpvE8",
        "outputId": "3ef7e7a5-6931-4704-c846-d425b35cbd9d"
      },
      "execution_count": null,
      "outputs": [
        {
          "output_type": "stream",
          "name": "stdout",
          "text": [
            "[2, 5, 7, 9]\n"
          ]
        }
      ]
    },
    {
      "cell_type": "markdown",
      "source": [
        "# 7. Pilha – Inserção (push) e Remoção (pop)\n",
        "**Conceito:** A pilha funciona como uma pilha de pratos. O último que entra é o primeiro que sai (LIFO – Last In, First Out). Usamos append() para empilhar e pop() para desempilhar.\n",
        "\n",
        "**Enunciado:**\n",
        "Crie uma pilha com os valores 1, 2 e 3 (nessa ordem). Depois, remova o elemento do topo e\n",
        "mostre qual foi removido e como ficou a pilha."
      ],
      "metadata": {
        "id": "DgAQgB2nzQ6r"
      }
    },
    {
      "cell_type": "code",
      "source": [
        "pilha_value  = [1,2,3]\n",
        "v_del = pilha_value.pop()\n",
        "print(f\"O número deletado foi {v_del}\")\n",
        "print(pilha_value)"
      ],
      "metadata": {
        "colab": {
          "base_uri": "https://localhost:8080/"
        },
        "id": "1Xvu91Jvy4UJ",
        "outputId": "dba1e875-5ec1-4952-f1cb-22a12b1dd1de"
      },
      "execution_count": null,
      "outputs": [
        {
          "output_type": "stream",
          "name": "stdout",
          "text": [
            "O número deletado foi 3\n",
            "[1, 2]\n"
          ]
        }
      ]
    },
    {
      "cell_type": "markdown",
      "source": [
        "# 8. Fila – Inserção e Remoção\n",
        "**Conceito:** A fila é como uma fila de pessoas. O primeiro que entra é o primeiro que sai (FIFO – First In, First Out). Usamos append() para inserir no final e pop(0) para remover do início.\n",
        "\n",
        "**Enunciado:**\n",
        "Crie uma fila com os valores 'A', 'B' e 'C'. Depois, remova o primeiro elemento e mostre o valor\n",
        "removido e o novo estado da fila\n"
      ],
      "metadata": {
        "id": "u4pOGqxZ3ctr"
      }
    },
    {
      "cell_type": "code",
      "source": [
        "from collections import deque\n",
        "\n",
        "fila_value = [\"A\",\"B\",\"C\"]\n",
        "v_del = fila_value.pop(0)\n",
        "print(f\"O número deletado foi {v_del}\")\n",
        "print(fila_value)"
      ],
      "metadata": {
        "colab": {
          "base_uri": "https://localhost:8080/"
        },
        "id": "gFsf061P0Czr",
        "outputId": "a4bbb95c-3485-4369-9940-1ca6ad932b23"
      },
      "execution_count": null,
      "outputs": [
        {
          "output_type": "stream",
          "name": "stdout",
          "text": [
            "O número deletado foi A\n",
            "['B', 'C']\n"
          ]
        }
      ]
    },
    {
      "cell_type": "markdown",
      "source": [
        "# 9. Comparação: Pilha vs Fila\n",
        "**Conceito:**\n",
        "• Pilha: o último elemento inserido é o primeiro a sair.\n",
        "• Fila: o primeiro elemento inserido é o primeiro a sair.\n",
        "\n",
        "**Enunciado:**\n",
        "Dado o mesmo conjunto de valores [1, 2, 3], simule o uso desses valores em uma pilha e em\n",
        "uma fila. Mostre a ordem em que os elementos são removidos em cada estrutura."
      ],
      "metadata": {
        "id": "IeZDnrmk9r8Z"
      }
    },
    {
      "cell_type": "code",
      "source": [
        "def remover_fila(fila):\n",
        "  pos = 1\n",
        "  for i in fila:\n",
        "    valor_removido = fila.pop(0)\n",
        "    print(f\"O {valor_removido} foi o {pos}º a sair da fila\")\n",
        "    if len(fila) == 1:\n",
        "      v_r = fila.pop()\n",
        "      print(f\"O {v_r} foi o último a sair da fila\")\n",
        "    pos += 1\n",
        "  return fila\n",
        "\n",
        "def remover_pilha(pilha):\n",
        "  pos = 1\n",
        "  for i in pilha:\n",
        "    valor_removido = pilha.pop()\n",
        "    print(f\"O {valor_removido} foi o {pos}º a sair da pilha\")\n",
        "    if len(pilha) == 1:\n",
        "      v_r = pilha.pop()\n",
        "      print(f\"O {v_r} foi o último a sair da fila\")\n",
        "    pos += 1\n",
        "remover_fila([1,2,3])\n",
        "remover_pilha([1,2,3])"
      ],
      "metadata": {
        "colab": {
          "base_uri": "https://localhost:8080/"
        },
        "id": "oVF3oH6e6IqT",
        "outputId": "7efb987c-8ffb-4f2f-cba2-fd099903dd3e"
      },
      "execution_count": null,
      "outputs": [
        {
          "output_type": "stream",
          "name": "stdout",
          "text": [
            "O 1 foi o 1º a sair da fila\n",
            "O 2 foi o 2º a sair da fila\n",
            "O 3 foi o último a sair da fila\n",
            "O 3 foi o 1º a sair da pilha\n",
            "O 2 foi o 2º a sair da pilha\n",
            "O 1 foi o último a sair da fila\n"
          ]
        }
      ]
    },
    {
      "cell_type": "markdown",
      "source": [
        "# 10. Deque – Inserção e Remoção nos Dois Lados\n",
        "**Conceito:** O deque é uma fila dupla. Podemos inserir e remover elementos tanto no início quanto no fim da estrutura, usando append(), appendleft(), pop() e popleft().\n",
        "\n",
        "**Enunciado:**\n",
        "Usando collections.deque, crie um deque e insira os valores 1 no início e 2 no fim. Depois, remova um valor do início e outro do fim. Mostre o deque após cada operação."
      ],
      "metadata": {
        "id": "u9BbDs-u-3_5"
      }
    },
    {
      "cell_type": "code",
      "source": [
        "from collections import deque\n",
        "fila_dupla = deque([5,8])\n",
        "print(fila_dupla)\n",
        "fila_dupla.appendleft(1)\n",
        "print(fila_dupla)\n",
        "fila_dupla.append(2)\n",
        "print(fila_dupla)\n",
        "fila_dupla.popleft()\n",
        "print(fila_dupla)\n",
        "fila_dupla.pop()\n",
        "print(fila_dupla)"
      ],
      "metadata": {
        "colab": {
          "base_uri": "https://localhost:8080/"
        },
        "id": "22PbhR1P9zwp",
        "outputId": "07ee95a4-920c-471d-d0ef-35169c275a9e"
      },
      "execution_count": null,
      "outputs": [
        {
          "output_type": "stream",
          "name": "stdout",
          "text": [
            "deque([5, 8])\n",
            "deque([1, 5, 8])\n",
            "deque([1, 5, 8, 2])\n",
            "deque([5, 8, 2])\n",
            "deque([5, 8])\n"
          ]
        }
      ]
    },
    {
      "cell_type": "markdown",
      "source": [
        "# 11. Qual estrutura usar? – Empilhando caixas\n",
        "**Conceito:** Para guardar caixas empilhadas (uma sobre a outra), usamos uma pilha, pois só conseguimos pegar a última colocada.\n",
        "**Enunciado:**\n",
        "Você empilha as caixas na ordem: 'caixa1', 'caixa2', 'caixa3'. Use uma pilha para mostrar a\n",
        "ordem em que elas serão retiradas.\n"
      ],
      "metadata": {
        "id": "rSzz_ZMjA4rY"
      }
    },
    {
      "cell_type": "code",
      "source": [
        "caixas = ['caixa1','caixa2','caixa3']\n",
        "pos = 1\n",
        "for i in caixas:\n",
        "  valor_removido = caixas.pop(0)\n",
        "  print(f\"O {valor_removido} foi o {pos}º a sair da fila\")\n",
        "  if len(caixas) == 1:\n",
        "    v_r = caixas.pop()\n",
        "    print(f\"O {v_r} foi o último a sair da fila\")\n",
        "  pos += 1"
      ],
      "metadata": {
        "colab": {
          "base_uri": "https://localhost:8080/"
        },
        "id": "xP4PtLDUAMpJ",
        "outputId": "a1fea2f8-7292-4857-f369-3ce01d06ecda"
      },
      "execution_count": null,
      "outputs": [
        {
          "output_type": "stream",
          "name": "stdout",
          "text": [
            "O caixa1 foi o 1º a sair da fila\n",
            "O caixa2 foi o 2º a sair da fila\n",
            "O caixa3 foi o último a sair da fila\n"
          ]
        }
      ]
    },
    {
      "cell_type": "code",
      "source": [
        "fila_hospital = ['Maria','João','Ana']\n",
        "for i in fila_hospital:\n",
        "  if fila_hospital.index(i) == 0:\n",
        "    print(f'Esse será o próximo a ser atendido {i}')\n",
        "    fila_hospital.remove(i)\n",
        "print(fila_hospital)\n",
        "\n"
      ],
      "metadata": {
        "colab": {
          "base_uri": "https://localhost:8080/"
        },
        "id": "6dqhTEgVA16a",
        "outputId": "31365fec-8157-4515-d675-0ae3c20c597e"
      },
      "execution_count": null,
      "outputs": [
        {
          "output_type": "stream",
          "name": "stdout",
          "text": [
            "Esse será o próximo a ser atendido Maria\n",
            "['João', 'Ana']\n"
          ]
        }
      ]
    },
    {
      "cell_type": "code",
      "source": [],
      "metadata": {
        "id": "3E8yEH3wFKZi"
      },
      "execution_count": null,
      "outputs": []
    }
  ]
}