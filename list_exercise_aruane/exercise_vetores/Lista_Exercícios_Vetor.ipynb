{
  "nbformat": 4,
  "nbformat_minor": 0,
  "metadata": {
    "colab": {
      "provenance": []
    },
    "kernelspec": {
      "name": "python3",
      "display_name": "Python 3"
    },
    "language_info": {
      "name": "python"
    }
  },
  "cells": [
    {
      "cell_type": "markdown",
      "source": [
        "# 1. Criação de Lista Vazia e Inserção Simples\n",
        "**Enunciado:** Crie uma lista vazia e use o método append para adicionar o número 10. Em\n",
        "seguida, imprima a lista.\n"
      ],
      "metadata": {
        "id": "gaqC361nzOjL"
      }
    },
    {
      "cell_type": "code",
      "execution_count": null,
      "metadata": {
        "colab": {
          "base_uri": "https://localhost:8080/"
        },
        "id": "D8Y2Pbuiyv_m",
        "outputId": "0dada5b7-a6f8-4e51-a7f5-a55e030caab8"
      },
      "outputs": [
        {
          "output_type": "execute_result",
          "data": {
            "text/plain": [
              "[10]"
            ]
          },
          "metadata": {},
          "execution_count": 4
        }
      ],
      "source": [
        "import random\n",
        "def inserir_nao_ordenado(valores):\n",
        "  vetor = []\n",
        "  vetor.append(valores)\n",
        "  return vetor\n",
        "\n",
        "inserir_nao_ordenado(10)"
      ]
    },
    {
      "cell_type": "markdown",
      "source": [
        "# 2. Inserção Múltipla\n",
        "**Enunciado:** Crie uma lista vazia e use append para adicionar os números 5, 3, 8, 6 e 1.\n",
        "Imprima a lista resultante.\n"
      ],
      "metadata": {
        "id": "Hfv2H-ei0knI"
      }
    },
    {
      "cell_type": "code",
      "source": [
        "# def insercao_multipla(valores):\n",
        "def insercao_multipla():\n",
        "  vetor = []\n",
        "  l = [5,3,8,6,1]\n",
        "  for num in l:\n",
        "    vetor.append(num)\n",
        "  return vetor\n",
        "\n",
        "insercao_multipla()\n",
        "\n"
      ],
      "metadata": {
        "colab": {
          "base_uri": "https://localhost:8080/"
        },
        "id": "f7N52cWb0aT5",
        "outputId": "2ecc95bf-cbf6-4cab-8054-078313be794d"
      },
      "execution_count": null,
      "outputs": [
        {
          "output_type": "execute_result",
          "data": {
            "text/plain": [
              "[5, 3, 8, 6, 1]"
            ]
          },
          "metadata": {},
          "execution_count": 9
        }
      ]
    },
    {
      "cell_type": "markdown",
      "source": [
        "# 3. Função de Inserção\n",
        "**Enunciado**: Crie uma função que receba uma lista e um valor, insira o valor usando\n",
        "append e retorne a lista atualizada.\n"
      ],
      "metadata": {
        "id": "Tm9AMayl69oF"
      }
    },
    {
      "cell_type": "code",
      "source": [
        "def funcao_insercao(vetor,valor):\n",
        "  vetor.append(valor)\n",
        "  return vetor\n",
        "num = [1,2,3]\n",
        "funcao_insercao(num,5)"
      ],
      "metadata": {
        "colab": {
          "base_uri": "https://localhost:8080/"
        },
        "id": "8yS0H59x6hJF",
        "outputId": "95748207-82e2-43d9-a835-6e221ba9e0da"
      },
      "execution_count": null,
      "outputs": [
        {
          "output_type": "execute_result",
          "data": {
            "text/plain": [
              "[1, 2, 3, 5]"
            ]
          },
          "metadata": {},
          "execution_count": 11
        }
      ]
    },
    {
      "cell_type": "markdown",
      "source": [
        "# 4. Pesquisa Linear (retornar índice)\n",
        "**Enunciado:** Crie uma função que faça pesquisa linear em uma lista e retorne o índice\n",
        "do elemento se encontrado ou -1 se não estiver presente.\n"
      ],
      "metadata": {
        "id": "q0kcAPXg_cRa"
      }
    },
    {
      "cell_type": "code",
      "source": [
        "elemento_desejado = int(input(\"Digite um número: \"))\n",
        "def pesquisa_Linear(elemento_desejado):\n",
        "  # lista = [1,2,3,4,5,6,4]\n",
        "  lista = [50,20,3,5,80,90,15]\n",
        "\n",
        "  for i in lista:\n",
        "    if elemento_desejado not in lista:\n",
        "      print('-1')\n",
        "      break\n",
        "    if i == elemento_desejado:\n",
        "      print(lista.index(i))\n",
        "\n",
        "pesquisa_Linear(elemento_desejado)\n",
        "\n"
      ],
      "metadata": {
        "colab": {
          "base_uri": "https://localhost:8080/"
        },
        "id": "mlzc0g98_b2z",
        "outputId": "05d2db52-afbe-45a2-9830-c4d236cebc3b"
      },
      "execution_count": null,
      "outputs": [
        {
          "output_type": "stream",
          "name": "stdout",
          "text": [
            "Digite um número: 88\n",
            "-1\n"
          ]
        }
      ]
    },
    {
      "cell_type": "code",
      "source": [
        "#exemplo da pro para eu entender o not in\n",
        "lista =[1,2,3,4,10]\n",
        "\n",
        "i = 4\n",
        "\n",
        "if i in lista:\n",
        "  print('True')\n",
        "else:None"
      ],
      "metadata": {
        "id": "0NxIPUGwDJ6w",
        "colab": {
          "base_uri": "https://localhost:8080/"
        },
        "outputId": "00245aa0-14b4-4955-b653-702707bcf511"
      },
      "execution_count": null,
      "outputs": [
        {
          "output_type": "stream",
          "name": "stdout",
          "text": [
            "True\n"
          ]
        }
      ]
    },
    {
      "cell_type": "markdown",
      "source": [
        "# 5. Exclusão de Elemento (sem usar remove)\n",
        "**Enunciado:** Crie uma função que remova a primeira ocorrência de um elemento de\n",
        "uma lista sem utilizar o método remove."
      ],
      "metadata": {
        "id": "0IUgob9wWz65"
      }
    },
    {
      "cell_type": "code",
      "source": [
        "lista = [1,2,3,14,5,2]\n",
        "n_del = 2\n",
        "def removerTodos(lista,valor):\n",
        "  lista2= []\n",
        "  nd = 0\n",
        "  for num in lista:\n",
        "    if num != valor:\n",
        "      lista2+=[num]\n",
        "  return lista2\n",
        "\n",
        "removerTodos(lista,n_del)\n"
      ],
      "metadata": {
        "colab": {
          "base_uri": "https://localhost:8080/"
        },
        "id": "I1FUi-VSWxaB",
        "outputId": "2a9477ed-e552-47c3-cb73-288ac6cfc72e"
      },
      "execution_count": null,
      "outputs": [
        {
          "output_type": "execute_result",
          "data": {
            "text/plain": [
              "[1, 3, 14, 5]"
            ]
          },
          "metadata": {},
          "execution_count": 43
        }
      ]
    },
    {
      "cell_type": "code",
      "source": [
        "#excluindo apenas a primeira ocorrência\n",
        "def remover(lista,valor):\n",
        "  for i in range(len(lista)):\n",
        "    if lista[i] == valor:\n",
        "      return print(f'Esse é o return do IF {lista[:i]+ lista[i+1:]}')\n",
        "  return print(f'Esse é o return da fora do for {lista}')\n",
        "\n",
        "remover(lista,n_del)"
      ],
      "metadata": {
        "colab": {
          "base_uri": "https://localhost:8080/"
        },
        "id": "OiCAFtGBl34d",
        "outputId": "6a69027e-0d69-47d5-90f5-9de61c96143f"
      },
      "execution_count": null,
      "outputs": [
        {
          "output_type": "stream",
          "name": "stdout",
          "text": [
            "Esse é o return do IF [1, 3, 14, 5, 2]\n"
          ]
        }
      ]
    },
    {
      "cell_type": "markdown",
      "source": [
        "# 6. Inserção em Lista Ordenada\n",
        "**Enunciado:** Crie uma função que insira um elemento em uma lista ordenada,\n",
        "mantendo a ordem sem usar sort."
      ],
      "metadata": {
        "id": "lITQSrwFm4BC"
      }
    },
    {
      "cell_type": "code",
      "source": [
        "lista_ordenada = [10,20,30,40,50]\n",
        "n_ins = 32\n",
        "\n",
        "#quando uso o for pelo renge do tamanho eu acesso a POSIÇÃO da minha lista\n",
        "for i in range(len(lista_ordenada )) :\n",
        "  if lista_ordenada[i] >= n_ins :\n",
        "    lista_ordenada.insert(i+1,n_ins)\n",
        "    break\n",
        "  if lista_ordenada[i] <= n_ins:\n",
        "    lista_ordenada.insert(i+1,n_ins)\n",
        "    break\n",
        "  if lista_ordenada[i] == n_ins:\n",
        "    break\n",
        "  else:\n",
        "    lista_ordenada.append(n_ins)\n",
        "    break\n",
        "\n",
        "print(lista_ordenada)"
      ],
      "metadata": {
        "colab": {
          "base_uri": "https://localhost:8080/"
        },
        "id": "Ofjgut_Nm5NP",
        "outputId": "17617c3e-67a8-4bc0-a8f2-97d365b3865c"
      },
      "execution_count": null,
      "outputs": [
        {
          "output_type": "stream",
          "name": "stdout",
          "text": [
            "[10, 20, 30, 40, 50, 32]\n"
          ]
        }
      ]
    },
    {
      "cell_type": "code",
      "source": [
        "#quando uso o for direto na lista eu acesso o VALOR que tem na lista\n",
        "for i in lista_ordenada:\n",
        "  print(f'esse é o valor {i}')"
      ],
      "metadata": {
        "colab": {
          "base_uri": "https://localhost:8080/"
        },
        "id": "p4kc_K0SnZpL",
        "outputId": "cac54582-31e1-4833-e19b-5fd86c4804e7"
      },
      "execution_count": null,
      "outputs": [
        {
          "output_type": "stream",
          "name": "stdout",
          "text": [
            "esse é o valor 10\n",
            "esse é o valor 20\n",
            "esse é o valor 30\n",
            "esse é o valor 40\n",
            "esse é o valor 50\n"
          ]
        }
      ]
    },
    {
      "cell_type": "markdown",
      "source": [
        "# 7. Inserindo Números de 1 a 10\n",
        "**Enunciado**: Crie uma lista vazia e, usando um loop, insira os números de 1 a 10 usando\n",
        "append.\n",
        "\n",
        "\n"
      ],
      "metadata": {
        "id": "pZu7MxWL7Oc1"
      }
    },
    {
      "cell_type": "code",
      "source": [
        "lista = []\n",
        "for i in range(1,11):\n",
        "  lista.append(i)\n",
        "\n",
        "print(lista)"
      ],
      "metadata": {
        "colab": {
          "base_uri": "https://localhost:8080/"
        },
        "id": "lgFXeWiW1x4m",
        "outputId": "1f5dbb1c-b956-4b85-d846-e06c09cf392b"
      },
      "execution_count": null,
      "outputs": [
        {
          "output_type": "stream",
          "name": "stdout",
          "text": [
            "[1, 2, 3, 4, 5, 6, 7, 8, 9, 10]\n"
          ]
        }
      ]
    },
    {
      "cell_type": "markdown",
      "source": [
        "# 8. Inverter Lista (sem usar reverse)\n",
        "**Enunciado:** Crie uma função que inverta uma lista sem usar o método reverse.\n",
        "\n"
      ],
      "metadata": {
        "id": "PQ5rHji6B0dF"
      }
    },
    {
      "cell_type": "code",
      "source": [
        "def inverter (lista):\n",
        "  return lista[::-1]\n",
        "inverter([1,2,3,4,5])"
      ],
      "metadata": {
        "colab": {
          "base_uri": "https://localhost:8080/"
        },
        "id": "AVUDa9XT7qfc",
        "outputId": "55f0293d-ea97-44dc-8465-166633026e26"
      },
      "execution_count": 2,
      "outputs": [
        {
          "output_type": "execute_result",
          "data": {
            "text/plain": [
              "[5, 4, 3, 2, 1]"
            ]
          },
          "metadata": {},
          "execution_count": 2
        }
      ]
    },
    {
      "cell_type": "markdown",
      "source": [
        "# 9. Soma de Elementos\n",
        "**Enunciado:** Crie uma função que receba uma lista e retorne a soma de todos os seus\n",
        "elementos."
      ],
      "metadata": {
        "id": "E33JBfibCBeN"
      }
    },
    {
      "cell_type": "code",
      "source": [
        "\n",
        "def somar(lista):\n",
        "  soma = 0\n",
        "  for i in range(len(lista)):\n",
        "    soma = soma + lista[i]\n",
        "  return soma\n",
        "oi = [1,2,3,4]\n",
        "\n",
        "somar(oi)\n"
      ],
      "metadata": {
        "colab": {
          "base_uri": "https://localhost:8080/"
        },
        "id": "pkN7lkDXCAxu",
        "outputId": "0b323286-1167-454b-83a1-d479bec04a9f"
      },
      "execution_count": null,
      "outputs": [
        {
          "output_type": "execute_result",
          "data": {
            "text/plain": [
              "10"
            ]
          },
          "metadata": {},
          "execution_count": 209
        }
      ]
    },
    {
      "cell_type": "markdown",
      "source": [
        "# 10. Encontrar o Maior Elemento\n",
        "**Enunciado:** Crie uma função que encontre e retorne o maior elemento de uma lista.\n",
        "\n"
      ],
      "metadata": {
        "id": "BB_7lvQro9Pg"
      }
    },
    {
      "cell_type": "code",
      "source": [
        "def maior_elemento(lista):\n",
        "  maior = 0\n",
        "  for i in lista:\n",
        "    if i >= maior:\n",
        "      maior = i\n",
        "\n",
        "  return maior\n",
        "\n",
        "maior_elemento([1000,2011,302,45,5])"
      ],
      "metadata": {
        "colab": {
          "base_uri": "https://localhost:8080/"
        },
        "id": "HINgC39jo8wJ",
        "outputId": "77751e63-1375-4063-a00e-1f6f69a98ead"
      },
      "execution_count": null,
      "outputs": [
        {
          "output_type": "execute_result",
          "data": {
            "text/plain": [
              "2011"
            ]
          },
          "metadata": {},
          "execution_count": 23
        }
      ]
    },
    {
      "cell_type": "markdown",
      "source": [
        "# 11. Encontrar o Menor Elemento\n",
        "**Enunciado:** Crie uma função que encontre e retorne o menor elemento de uma lista\n"
      ],
      "metadata": {
        "id": "Mf46uPfGrLEW"
      }
    },
    {
      "cell_type": "code",
      "source": [
        "def menor_elemento(lista):\n",
        "  menor = lista[0]\n",
        "  for i in lista:\n",
        "    if i <= menor:\n",
        "      menor = i\n",
        "\n",
        "  return menor\n",
        "\n",
        "menor_elemento([1000,2011,302,45,5])"
      ],
      "metadata": {
        "colab": {
          "base_uri": "https://localhost:8080/"
        },
        "id": "AxEZmvQzrKrP",
        "outputId": "b020fc16-0a55-4a34-f653-ea5f26dfbaf0"
      },
      "execution_count": null,
      "outputs": [
        {
          "output_type": "execute_result",
          "data": {
            "text/plain": [
              "5"
            ]
          },
          "metadata": {},
          "execution_count": 26
        }
      ]
    },
    {
      "cell_type": "markdown",
      "source": [
        "# 12. Contar Ocorrências de um Elemento\n",
        "**Enunciado:** Crie uma função que conte quantas vezes um dado elemento aparece em\n",
        "uma lista."
      ],
      "metadata": {
        "id": "NIzx9pIdvdWb"
      }
    },
    {
      "cell_type": "code",
      "source": [
        "#Usuário pode escolher que elemento ele quer procurar\n",
        "def escolherElemento(lista):\n",
        "  elemtento = int(input('Insira um número para procurar na lista:'))\n",
        "  var = 0\n",
        "  for i in lista:\n",
        "    if i == elemtento:\n",
        "      var += 1\n",
        "  return f\"quantidade de ocorrência é igual á {var} do elemento {elemtento}\"\n",
        "\n",
        "escolherElemento([1,2,3,4,5,6,7,10,9,10])"
      ],
      "metadata": {
        "colab": {
          "base_uri": "https://localhost:8080/",
          "height": 53
        },
        "id": "N472N6LXtHzM",
        "outputId": "51851b48-da62-4746-feda-767649b4ea50"
      },
      "execution_count": null,
      "outputs": [
        {
          "name": "stdout",
          "output_type": "stream",
          "text": [
            "Insira um número para procurar na lista:10\n"
          ]
        },
        {
          "output_type": "execute_result",
          "data": {
            "text/plain": [
              "'quantidade de ocorrência é igual á 2 do elemento 10'"
            ],
            "application/vnd.google.colaboratory.intrinsic+json": {
              "type": "string"
            }
          },
          "metadata": {},
          "execution_count": 30
        }
      ]
    },
    {
      "cell_type": "code",
      "source": [
        "#Outra Forma de procurar a ocorrencia do elemento na lista\n",
        "def contar_ocorrencias(lista):\n",
        "    # Cria um dicionário para armazenar as ocorrências\n",
        "    contagem = {}\n",
        "\n",
        "    # Percorre a lista e conta as ocorrências\n",
        "    for elemento in lista:\n",
        "        if elemento in contagem:\n",
        "            contagem[elemento] += 1\n",
        "        else:\n",
        "            contagem[elemento] = 1\n",
        "    return contagem\n",
        "\n",
        "# Testando a função\n",
        "lista = [1, 2, 2, 3, 3, 3, 4, 5, 5]\n",
        "contar_ocorrencias(lista)\n",
        "# print(resultado)\n"
      ],
      "metadata": {
        "colab": {
          "base_uri": "https://localhost:8080/"
        },
        "id": "3DGFg0teu5Rz",
        "outputId": "5e7def7d-4b79-4e25-dcb0-d775b529dc32"
      },
      "execution_count": null,
      "outputs": [
        {
          "output_type": "execute_result",
          "data": {
            "text/plain": [
              "{1: 1, 2: 2, 3: 3, 4: 1, 5: 2}"
            ]
          },
          "metadata": {},
          "execution_count": 34
        }
      ]
    },
    {
      "cell_type": "markdown",
      "source": [
        "# 13. Filtrar Elementos Pares\n",
        "**Enunciado:** Crie uma função que retorne uma nova lista contendo apenas os números\n",
        "pares de uma lista dada.\n"
      ],
      "metadata": {
        "id": "wwcAFwZmwKvp"
      }
    },
    {
      "cell_type": "code",
      "source": [
        "def elemento_pares(lista):\n",
        "  pares = []\n",
        "  for i in lista:\n",
        "    if i%2 == 0:\n",
        "      pares.append(i)\n",
        "  return f'Essa é uma lista só com os números pares: {pares}'\n",
        "\n",
        "elemento_pares([1,2,3,4,5,6,7,8,9])\n"
      ],
      "metadata": {
        "colab": {
          "base_uri": "https://localhost:8080/",
          "height": 35
        },
        "id": "E5pAAKo2vh7q",
        "outputId": "cd1cc202-7611-4f6e-c949-5c670ceb8aea"
      },
      "execution_count": null,
      "outputs": [
        {
          "output_type": "execute_result",
          "data": {
            "text/plain": [
              "' Essa é uma lista só com os números pares: [2, 4, 6, 8]'"
            ],
            "application/vnd.google.colaboratory.intrinsic+json": {
              "type": "string"
            }
          },
          "metadata": {},
          "execution_count": 35
        }
      ]
    },
    {
      "cell_type": "markdown",
      "source": [
        "# 14. Calcular o Quadrado de Cada Elemento\n",
        "**Enunciado:** Crie uma função que retorne uma nova lista com o quadrado de cada\n",
        "elemento da lista original."
      ],
      "metadata": {
        "id": "5YYiuDrDHlQN"
      }
    },
    {
      "cell_type": "code",
      "source": [
        "lista = [1,2,3,4]\n",
        "lista4= []\n",
        "for i in lista:\n",
        "  lista4.append(i**2)\n",
        "print(lista4)"
      ],
      "metadata": {
        "colab": {
          "base_uri": "https://localhost:8080/"
        },
        "id": "IrmA3pN_F02_",
        "outputId": "1aa03a67-12ce-445e-eb07-8ea41437cd28"
      },
      "execution_count": null,
      "outputs": [
        {
          "output_type": "stream",
          "name": "stdout",
          "text": [
            "[1, 4, 9, 16]\n"
          ]
        }
      ]
    },
    {
      "cell_type": "markdown",
      "source": [
        "# 15. Verificar Presença de Elemento\n",
        "**Enunciado:** Crie uma função que verifique se um elemento está presente em uma lista,\n",
        "retornando True ou False."
      ],
      "metadata": {
        "id": "Q3tDdyE478Nw"
      }
    },
    {
      "cell_type": "code",
      "source": [
        "def verificar_presenca():\n",
        "    elementoinList = int(input('Insira um número para procurar na lista:'))\n",
        "    lista = [1, 2, 3, 4, 5, 6, 7, 10, 9, 10]\n",
        "    encontrado = False\n",
        "\n",
        "    for i in lista:\n",
        "        if i == elementoinList:\n",
        "            encontrado = True\n",
        "            break\n",
        "\n",
        "    if encontrado == True:\n",
        "        print('True')\n",
        "    else:\n",
        "      print('False')\n",
        "\n",
        "verificar_presenca()\n"
      ],
      "metadata": {
        "colab": {
          "base_uri": "https://localhost:8080/"
        },
        "id": "_TlJdYAR56f6",
        "outputId": "6b13c458-a0ee-42c1-dc55-8acc2ef51611"
      },
      "execution_count": null,
      "outputs": [
        {
          "output_type": "stream",
          "name": "stdout",
          "text": [
            "Insira um número para procurar na lista:50\n",
            "False\n"
          ]
        }
      ]
    },
    {
      "cell_type": "markdown",
      "source": [
        "# 16. Remover Duplicados\n",
        "**Enunciado:** Crie uma função que receba uma lista e retorne uma nova lista com os\n",
        "elementos duplicados removidos, mantendo a ordem original"
      ],
      "metadata": {
        "id": "bJrgZDwACiEf"
      }
    },
    {
      "cell_type": "code",
      "source": [
        "def remover_duplicados(lista):\n",
        "    lista_sem_duplicados = []\n",
        "\n",
        "    for elemento in lista:\n",
        "        # Se o elemento não estiver na lista sem duplicados, adiciona\n",
        "        if elemento not in lista_sem_duplicados:\n",
        "            lista_sem_duplicados.append(elemento)\n",
        "\n",
        "    return lista_sem_duplicados\n",
        "\n",
        "lista_original = [1, 2, 2, 3, 4, 5, 5, 6, 7, 7,50,100,45,50]\n",
        "remover_duplicados(lista_original)\n"
      ],
      "metadata": {
        "colab": {
          "base_uri": "https://localhost:8080/"
        },
        "id": "85Rcq2N_B-YI",
        "outputId": "f8ab4c00-35b2-4b3d-8f18-9fb39fb163e6"
      },
      "execution_count": null,
      "outputs": [
        {
          "output_type": "execute_result",
          "data": {
            "text/plain": [
              "[1, 2, 3, 4, 5, 6, 7, 50, 100, 45]"
            ]
          },
          "metadata": {},
          "execution_count": 62
        }
      ]
    },
    {
      "cell_type": "markdown",
      "source": [
        "# 17. Inserir Elemento se Não Existir\n",
        "**Enunciado:** Crie uma função que insira um elemento em uma lista apenas se ele ainda\n",
        "não estiver presente.\n"
      ],
      "metadata": {
        "id": "_AI6V9oU9TpW"
      }
    },
    {
      "cell_type": "code",
      "source": [
        "def verificar_presenca_add():\n",
        "    elementoinList = int(input('Insira um número para procurar na lista:'))\n",
        "    lista = [1, 2, 3, 4, 5, 6, 7, 10, 9, 10]\n",
        "    encontrado = False\n",
        "\n",
        "    for i in lista:\n",
        "        if i == elementoinList:\n",
        "            encontrado = True\n",
        "            break\n",
        "\n",
        "    if encontrado == True:\n",
        "        print('True')\n",
        "    else:\n",
        "      lista.append(elementoinList)\n",
        "      return lista\n",
        "\n",
        "verificar_presenca_add()\n"
      ],
      "metadata": {
        "colab": {
          "base_uri": "https://localhost:8080/"
        },
        "id": "V0N3J4dg9ASm",
        "outputId": "873950c7-fdad-4bf0-f460-5462a4e80ead"
      },
      "execution_count": null,
      "outputs": [
        {
          "name": "stdout",
          "output_type": "stream",
          "text": [
            "Insira um número para procurar na lista:20\n"
          ]
        },
        {
          "output_type": "execute_result",
          "data": {
            "text/plain": [
              "[1, 2, 3, 4, 5, 6, 7, 10, 9, 10, 20]"
            ]
          },
          "metadata": {},
          "execution_count": 46
        }
      ]
    },
    {
      "cell_type": "markdown",
      "source": [
        "# 18. Combinar Duas Listas\n",
        "**Enunciado:** Crie uma função que combine duas listas e retorne uma única lista com\n",
        "todos os elementos"
      ],
      "metadata": {
        "id": "1oaBp53o99Ec"
      }
    },
    {
      "cell_type": "code",
      "source": [
        "def listConcat(list1,list2):\n",
        "  return list1 + list2\n",
        "listConcat([1,2,3],[6,9,12])\n"
      ],
      "metadata": {
        "colab": {
          "base_uri": "https://localhost:8080/"
        },
        "id": "F3RMpeGb9VnG",
        "outputId": "f48ee1e4-f495-4709-cefd-bb17bfb4531d"
      },
      "execution_count": null,
      "outputs": [
        {
          "output_type": "execute_result",
          "data": {
            "text/plain": [
              "[1, 2, 3, 6, 9, 12]"
            ]
          },
          "metadata": {},
          "execution_count": 50
        }
      ]
    },
    {
      "cell_type": "markdown",
      "source": [
        "# 19. Inverter Lista (outra abordagem)\n",
        "**Enunciado:** Crie uma função que retorne os elementos de uma lista em ordem inversa\n",
        "(sem usar o método reverse)."
      ],
      "metadata": {
        "id": "FGC3C9CYAiIS"
      }
    },
    {
      "cell_type": "code",
      "source": [
        "def inverter_lista(lista):\n",
        "    lista_invertida = []\n",
        "\n",
        "    # Percorrer a lista original de trás para frente\n",
        "    # len(lista) -1=  indica que o rnge vai começar no ultimo elemento da lista\n",
        "    # -1 = o valor de -1 é o limite inferior (mas não é incluído), e o laço termina quando i atingir o índice 0\n",
        "    # -1 = indica que a cada interação o indice vai diminuir\n",
        "    for i in range(len(lista) - 1,-1,-1):\n",
        "        lista_invertida.append(lista[i])\n",
        "\n",
        "    return lista_invertida\n",
        "\n",
        "lista_original = [10, 20, 30, 40, 50]\n",
        "inverter_lista(lista_original)\n",
        "\n"
      ],
      "metadata": {
        "colab": {
          "base_uri": "https://localhost:8080/"
        },
        "id": "ttP4PF3d-ztc",
        "outputId": "3ca9047f-0deb-48c7-d40e-87d439932427"
      },
      "execution_count": null,
      "outputs": [
        {
          "output_type": "execute_result",
          "data": {
            "text/plain": [
              "[50, 40, 30, 20, 10]"
            ]
          },
          "metadata": {},
          "execution_count": 58
        }
      ]
    },
    {
      "cell_type": "markdown",
      "source": [
        "# 20. Calcular Média\n",
        "**Enunciado:** Crie uma função que calcule a média dos elementos de uma lista de\n",
        "números.\n"
      ],
      "metadata": {
        "id": "vXH2UuuFBjv4"
      }
    },
    {
      "cell_type": "code",
      "source": [
        "def mediaList(list1):\n",
        "  soma=0\n",
        "  for i in list1:\n",
        "    soma += i\n",
        "  return soma/len(list1)\n",
        "mediaList([10,9,8,7])"
      ],
      "metadata": {
        "colab": {
          "base_uri": "https://localhost:8080/"
        },
        "id": "xd8Ia6iRAkAK",
        "outputId": "964f624e-b1a9-4912-fc6e-f09bb2d638aa"
      },
      "execution_count": null,
      "outputs": [
        {
          "output_type": "execute_result",
          "data": {
            "text/plain": [
              "8.5"
            ]
          },
          "metadata": {},
          "execution_count": 59
        }
      ]
    },
    {
      "cell_type": "markdown",
      "source": [
        "# 21. Segundo Maior Elemento\n",
        "**Enunciado:** Crie uma função que retorne o segundo maior elemento de uma lista.\n",
        "(Considere que a lista pode ter duplicatas.)\n"
      ],
      "metadata": {
        "id": "4S6hBz8m6YA4"
      }
    },
    {
      "cell_type": "code",
      "source": [
        "def segundo_maior(lista):\n",
        "    maior = max(lista)  # Encontra o maior valor\n",
        "    segundo_maior = None  # Variável para o segundo maior\n",
        "\n",
        "    # Percorre a lista em busca do segundo maior\n",
        "    for numero in lista:\n",
        "        if numero != maior:\n",
        "            if segundo_maior is None or numero > segundo_maior:\n",
        "                segundo_maior = numero  # Atualiza o segundo maior\n",
        "\n",
        "    return segundo_maior  # Retorna o segundo maior valor\n",
        "\n",
        "# Testando com a lista fornecida\n",
        "lista = [1, 2, 3, 4, 5, 6, 7, 59, 27, 39]\n",
        "print(segundo_maior(lista))  # Deve retornar 39\n"
      ],
      "metadata": {
        "colab": {
          "base_uri": "https://localhost:8080/"
        },
        "id": "rNflinO0yXJ5",
        "outputId": "95606f71-ed9e-44c4-848b-5bdb719d024b"
      },
      "execution_count": 29,
      "outputs": [
        {
          "output_type": "stream",
          "name": "stdout",
          "text": [
            "39\n"
          ]
        }
      ]
    },
    {
      "cell_type": "markdown",
      "source": [
        "# 22. Índice do Primeiro Elemento Maior que um Valor\n",
        "**Enunciado:** Crie uma função que retorne o índice do primeiro elemento de uma lista\n",
        "que seja maior que um valor dado."
      ],
      "metadata": {
        "id": "_ATZavtFFQC1"
      }
    },
    {
      "cell_type": "code",
      "source": [
        "\n",
        "def maiorqElemento():\n",
        "  lista = [5,10,20,30,26]\n",
        "  valor_desejado = int(input('Digite um número e descubra o índice do primeiro valor maior.\\n'))\n",
        "  for i in range(len(lista)):\n",
        "    if lista[i] > valor_desejado:\n",
        "      print(f'Esse é o índice que representa o proximo valor maior{i}')\n",
        "      break\n",
        "  else:\n",
        "    print('Nenhum valor maior foi encontrado na lista.')\n",
        "  # return (\"Nenhum valor maior foi encontrado na lista.\")\n",
        "maiorqElemento()"
      ],
      "metadata": {
        "colab": {
          "base_uri": "https://localhost:8080/"
        },
        "id": "VyBCOg8bCtww",
        "outputId": "0ee594df-7b47-496f-d4f0-26b2c8b0e944"
      },
      "execution_count": 18,
      "outputs": [
        {
          "output_type": "stream",
          "name": "stdout",
          "text": [
            "Digite um número e descubra o índice do primeiro valor maior.\n",
            "25\n",
            "Esse é o índice que representa o proximo valor maior3\n"
          ]
        }
      ]
    },
    {
      "cell_type": "markdown",
      "source": [
        "# 23. Intersecção de Duas Listas\n",
        "**Enunciado:** Crie uma função que retorne uma lista com os elementos que são comuns\n",
        "a duas listas (sem duplicatas)."
      ],
      "metadata": {
        "id": "prCvZV7s65mG"
      }
    },
    {
      "cell_type": "code",
      "source": [
        "def intercecao(list1,list2):\n",
        "  list3=[]\n",
        "  for i in list1:\n",
        "    for i2 in list2:\n",
        "      if i == i2:\n",
        "        list3.append(i)\n",
        "  return list3\n",
        "intercecao([1,2,3,4,5],[5,6,7,8,4,9])"
      ],
      "metadata": {
        "colab": {
          "base_uri": "https://localhost:8080/"
        },
        "id": "hZlzldZD69e1",
        "outputId": "3ffcc39a-6223-4ef8-9995-fbd4a5a0e70f"
      },
      "execution_count": 30,
      "outputs": [
        {
          "output_type": "execute_result",
          "data": {
            "text/plain": [
              "[4, 5]"
            ]
          },
          "metadata": {},
          "execution_count": 30
        }
      ]
    },
    {
      "cell_type": "markdown",
      "source": [
        "# 24. Contar Números Ímpares\n",
        "**Enunciado:** Crie uma função que conte quantos números ímpares existem em uma\n",
        "lista.\n"
      ],
      "metadata": {
        "id": "xMDcBiNXGx-E"
      }
    },
    {
      "cell_type": "code",
      "source": [
        "def elemento_impares(lista):\n",
        "  impares = 0\n",
        "  for i in lista:\n",
        "    if i%2 == 1:\n",
        "      impares += 1\n",
        "  return f'Essa é a quantidade de números impares: {impares}'\n",
        "\n",
        "elemento_impares([1,2,3,4,5,6,7,8,9])"
      ],
      "metadata": {
        "colab": {
          "base_uri": "https://localhost:8080/",
          "height": 35
        },
        "id": "zZdce7dMFb-l",
        "outputId": "59fa4910-e1e6-4044-ee91-f8020ed853ed"
      },
      "execution_count": null,
      "outputs": [
        {
          "output_type": "execute_result",
          "data": {
            "text/plain": [
              "'Essa é a quantidade de números impares: 5'"
            ],
            "application/vnd.google.colaboratory.intrinsic+json": {
              "type": "string"
            }
          },
          "metadata": {},
          "execution_count": 89
        }
      ]
    },
    {
      "cell_type": "markdown",
      "source": [
        "# 25. Índices de Ocorrência de um Elemento\n",
        "**Enunciado:** Crie uma função que retorne uma lista com os índices em que um\n",
        "determinado valor ocorre em uma lista.\n"
      ],
      "metadata": {
        "id": "tdbtvYGgJUsQ"
      }
    },
    {
      "cell_type": "code",
      "source": [
        "vetorNum= [1,2,4,3,4]\n",
        "def listaOcorrencia(vetorNum):\n",
        "  valor = int(input(\"Escolha um valor\"))\n",
        "  vetorIndice = []\n",
        "  for i in range(len(vetorNum)):\n",
        "    if vetorNum[i] == valor:\n",
        "      vetorIndice.append(i)\n",
        "  if vetorIndice == []:\n",
        "    return \"O valor não está presente na lista.\"\n",
        "  return (vetorIndice)\n",
        "\n",
        "\n",
        "listaOcorrencia(vetorNum)"
      ],
      "metadata": {
        "colab": {
          "base_uri": "https://localhost:8080/",
          "height": 52
        },
        "id": "ywOWmZsRJZGf",
        "outputId": "b7a91a35-5c51-4a8c-9f25-6125b9a390ec"
      },
      "execution_count": 95,
      "outputs": [
        {
          "name": "stdout",
          "output_type": "stream",
          "text": [
            "Escolha um valor6\n"
          ]
        },
        {
          "output_type": "execute_result",
          "data": {
            "text/plain": [
              "'O valor não está presente na lista.'"
            ],
            "application/vnd.google.colaboratory.intrinsic+json": {
              "type": "string"
            }
          },
          "metadata": {},
          "execution_count": 95
        }
      ]
    },
    {
      "cell_type": "markdown",
      "source": [
        "# 26. Duplicar Elementos\n",
        "**Enunciado:** Crie uma função que receba uma lista e retorne uma nova lista onde cada\n",
        "elemento aparece duas vezes consecutivas.\n"
      ],
      "metadata": {
        "id": "y6gFyy0j8WsH"
      }
    },
    {
      "cell_type": "code",
      "source": [
        "vetor = [8,7,6]\n",
        "def duplicar(vetor):\n",
        "  for i in vetor*1:\n",
        "    vetor.append(i)\n",
        "    selection_sort(vetor)\n",
        "  return vetor\n",
        "duplicar(vetor)\n"
      ],
      "metadata": {
        "colab": {
          "base_uri": "https://localhost:8080/"
        },
        "id": "TLRajqtn8V6I",
        "outputId": "538bf236-716d-4d27-e303-d4a307cbf455"
      },
      "execution_count": 49,
      "outputs": [
        {
          "output_type": "execute_result",
          "data": {
            "text/plain": [
              "[6, 6, 7, 7, 8, 8]"
            ]
          },
          "metadata": {},
          "execution_count": 49
        }
      ]
    },
    {
      "cell_type": "markdown",
      "source": [
        "# 27. Ordenação sem Sort (Selection Sort)\n",
        "**Enunciado:** Crie uma função que ordene uma lista em ordem crescente\n",
        "implementando o algoritmo de Selection Sort, sem usar métodos nativos de\n",
        "ordenação."
      ],
      "metadata": {
        "id": "qVb-MmHVBatx"
      }
    },
    {
      "cell_type": "code",
      "source": [
        "\n",
        "def selection_sort(vetor):\n",
        "    n = len(vetor)\n",
        "    for i in range(n):\n",
        "        # Encontra o índice do menor elemento no restante do vetor\n",
        "        menor_idx = i\n",
        "        for j in range(i+1, n):\n",
        "            if vetor[j] < vetor[menor_idx]:\n",
        "                menor_idx = j\n",
        "        # Troca o elemento na posição i com o menor encontrado\n",
        "        vetor[i], vetor[menor_idx] = vetor[menor_idx], vetor[i]\n",
        "    return vetor\n",
        "\n",
        "# Exemplo de uso\n",
        "vetor = [8,7,6]\n",
        "vetor_ordenado = selection_sort(vetor)\n",
        "print(vetor_ordenado)\n"
      ],
      "metadata": {
        "colab": {
          "base_uri": "https://localhost:8080/"
        },
        "id": "zg-Mtk0S9b3G",
        "outputId": "b468efd3-2f11-441f-c632-b7a8d12b7de6"
      },
      "execution_count": 48,
      "outputs": [
        {
          "output_type": "stream",
          "name": "stdout",
          "text": [
            "[6, 7, 8]\n"
          ]
        }
      ]
    },
    {
      "cell_type": "markdown",
      "source": [
        "# 28. Remover Primeiro e Último Elemento\n",
        "**Enunciado:** Crie uma função que remova o primeiro e o último elemento de uma lista\n",
        "e retorne a nova lista."
      ],
      "metadata": {
        "id": "fNViJrm_Hw86"
      }
    },
    {
      "cell_type": "code",
      "source": [
        "vetorN = [1,2,3,4,5]\n",
        "\n",
        "def remove_primeiro_and_ultimo(vetor):\n",
        "  vetorNovo = []\n",
        "  for i in range(len(vetor)):\n",
        "    if i != 0:\n",
        "      vetorNovo.append(vetor[i])\n",
        "  vetorNovo.pop()\n",
        "  return vetorNovo\n",
        "\n",
        "remove_primeiro_and_ultimo(vetorN)"
      ],
      "metadata": {
        "colab": {
          "base_uri": "https://localhost:8080/"
        },
        "id": "5RtIpKUEHJ5N",
        "outputId": "66bb84a7-3354-4a0c-ead2-54a9189c666d"
      },
      "execution_count": 80,
      "outputs": [
        {
          "output_type": "execute_result",
          "data": {
            "text/plain": [
              "[2, 3, 4]"
            ]
          },
          "metadata": {},
          "execution_count": 80
        }
      ]
    },
    {
      "cell_type": "markdown",
      "source": [
        "# 29. Verificar se a Lista Está Vazia\n",
        "**Enunciado:** Crie uma função que retorne True se uma lista estiver vazia e False caso\n",
        "contrário.\n"
      ],
      "metadata": {
        "id": "ywu5GBBUH_4U"
      }
    },
    {
      "cell_type": "code",
      "source": [
        "def listaVasia(lista):\n",
        "  if lista == []:\n",
        "    return True\n",
        "  else:\n",
        "    return False\n",
        "listaVasia([1,2,3,4,5,6,8,])"
      ],
      "metadata": {
        "colab": {
          "base_uri": "https://localhost:8080/"
        },
        "id": "nKiHl1hCG6RE",
        "outputId": "c4eb24a3-fd91-469e-db63-b97f008cec2e"
      },
      "execution_count": null,
      "outputs": [
        {
          "output_type": "execute_result",
          "data": {
            "text/plain": [
              "False"
            ]
          },
          "metadata": {},
          "execution_count": 97
        }
      ]
    },
    {
      "cell_type": "markdown",
      "source": [
        "# 30. Soma de Dois Vetores (Listas)\n",
        "**Enunciado:** Crie uma função que receba duas listas de mesmo tamanho (vetores) e\n",
        "retorne uma nova lista com a soma elemento a elemento."
      ],
      "metadata": {
        "id": "uS0pG0iaGKmM"
      }
    },
    {
      "cell_type": "code",
      "source": [
        "def soma_dos_vetores(vetor1, vetor2):\n",
        "  soma = []\n",
        "  if len(vetor1) == len(vetor2):\n",
        "    soma = []\n",
        "    for i in range(len(vetor1)):\n",
        "        soma.append(vetor1[i] + vetor2[i])\n",
        "\n",
        "    return f'Essa é a soma dos vetores: {soma}'\n",
        "  else:\n",
        "    return \"Os vetores devem ter o mesmo tamanho para serem somados.\"\n",
        "\n",
        "# Exemplo de uso\n",
        "vetor1 = [5, 6, 7,8]\n",
        "vetor2 = [1, 1, 1,1]\n",
        "soma_dos_vetores(vetor1, vetor2)"
      ],
      "metadata": {
        "colab": {
          "base_uri": "https://localhost:8080/",
          "height": 35
        },
        "id": "xOrm2cHlGGas",
        "outputId": "e0ac5cef-646a-4d8c-c43e-cf76e44b156d"
      },
      "execution_count": 73,
      "outputs": [
        {
          "output_type": "execute_result",
          "data": {
            "text/plain": [
              "'Os vetores devem ter o mesmo tamanho para serem somados.'"
            ],
            "application/vnd.google.colaboratory.intrinsic+json": {
              "type": "string"
            }
          },
          "metadata": {},
          "execution_count": 73
        }
      ]
    }
  ]
}