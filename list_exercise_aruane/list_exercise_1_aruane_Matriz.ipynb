{
  "nbformat": 4,
  "nbformat_minor": 0,
  "metadata": {
    "colab": {
      "provenance": []
    },
    "kernelspec": {
      "name": "python3",
      "display_name": "Python 3"
    },
    "language_info": {
      "name": "python"
    }
  },
  "cells": [
    {
      "cell_type": "code",
      "execution_count": null,
      "metadata": {
        "colab": {
          "base_uri": "https://localhost:8080/"
        },
        "id": "Vxdvm2IZRodt",
        "outputId": "b8fea8e9-c21c-4f7c-877a-1162ccddc4ce"
      },
      "outputs": [
        {
          "output_type": "execute_result",
          "data": {
            "text/plain": [
              "array([[1, 2],\n",
              "       [3, 4]])"
            ]
          },
          "metadata": {},
          "execution_count": 1
        }
      ],
      "source": [
        "# 19-Crie uma matriz 2x2 e exiba seus elementos em formato de matriz.\n",
        "import numpy as np\n",
        "def mostrarMatriz():\n",
        "  matriz = np.array([[1,2],[3,4]])\n",
        "  return matriz\n",
        "mostrarMatriz()"
      ]
    },
    {
      "cell_type": "code",
      "source": [
        "# 20-Solicite ao usuário que insira os elementos de uma matriz 3x3 e exiba a matriz\n",
        "# formatada.\n",
        "import numpy as np\n",
        "def inserirElemento():\n",
        "  matriz = np.array([[0, 1, 3],\n",
        "                    [9, 8, 6],\n",
        "                    [34, 24, 10]])\n",
        "\n",
        "  print(\"Matriz original:\")\n",
        "  print(matriz)\n",
        "\n",
        "  for linha in range(matriz.shape[0]):\n",
        "      for coluna in range(matriz.shape[1]):\n",
        "          valor = int(input(f'Digite o valor para a posição ({linha}, {coluna}): '))\n",
        "          matriz[linha, coluna] = valor\n",
        "\n",
        "  print(\"\\nMatriz atualizada:\")\n",
        "  print(matriz)\n",
        "\n",
        "inserirElemento()"
      ],
      "metadata": {
        "colab": {
          "base_uri": "https://localhost:8080/"
        },
        "id": "VKgHBlITxYwk",
        "outputId": "6a0e9b56-5725-499b-9cd8-19ef47177bb0"
      },
      "execution_count": null,
      "outputs": [
        {
          "output_type": "stream",
          "name": "stdout",
          "text": [
            "Matriz original:\n",
            "[[ 0  1  3]\n",
            " [ 9  8  6]\n",
            " [34 24 10]]\n",
            "Digite o valor para a posição (0, 0): 5\n",
            "Digite o valor para a posição (0, 1): 10\n",
            "Digite o valor para a posição (0, 2): 15\n",
            "Digite o valor para a posição (1, 0): 20\n",
            "Digite o valor para a posição (1, 1): 25\n",
            "Digite o valor para a posição (1, 2): 30\n",
            "Digite o valor para a posição (2, 0): 35\n",
            "Digite o valor para a posição (2, 1): 40\n",
            "Digite o valor para a posição (2, 2): 45\n",
            "\n",
            "Matriz atualizada:\n",
            "[[ 5 10 15]\n",
            " [20 25 30]\n",
            " [35 40 45]]\n"
          ]
        }
      ]
    },
    {
      "cell_type": "code",
      "source": [
        "matriz = []\n",
        "\n",
        "# Pede a quantidade de linhas\n",
        "linhas = int(input('Digite a quantidade de linhas:'))\n",
        "\n",
        "# Pede a quantidade de colunas apenas uma vez\n",
        "colunas = int(input(\"Digite a quantidade de colunas:\"))\n",
        "\n",
        "# Preenche a matriz com as linhas e colunas fornecidas\n",
        "for l in range(linhas):\n",
        "    linha = []  # Cria uma nova lista para a linha\n",
        "    for c in range(colunas):\n",
        "        # Pede os valores para preencher a linha\n",
        "        valor = int(input(f'Digite o valor para a posição ({l},{c}): '))\n",
        "        linha.append(valor)  # Adiciona o valor à linha\n",
        "    matriz.append(linha)  # Adiciona a linha completa à matriz\n",
        "\n",
        "# Exibe a matriz final\n",
        "print(\"\\nMatriz preenchida:\")\n",
        "for linha in matriz:\n",
        "    print(linha)\n"
      ],
      "metadata": {
        "colab": {
          "base_uri": "https://localhost:8080/"
        },
        "id": "YmEDTX1NSDFS",
        "outputId": "1995b906-ac82-4819-f5e5-df7cbfb6d173"
      },
      "execution_count": null,
      "outputs": [
        {
          "output_type": "stream",
          "name": "stdout",
          "text": [
            "Digite a quantidade de linhas:2\n",
            "Digite a quantidade de colunas:2\n",
            "Digite o valor para a posição (0,0): 1\n",
            "Digite o valor para a posição (0,1): 2\n",
            "Digite o valor para a posição (1,0): 3\n",
            "Digite o valor para a posição (1,1): 5\n",
            "\n",
            "Matriz preenchida:\n",
            "[1, 2]\n",
            "[3, 5]\n"
          ]
        }
      ]
    },
    {
      "cell_type": "code",
      "source": [
        "# 21-Peça ao usuário que insira duas matrizes 2x2 e exiba a matriz resultante da\n",
        "# soma das duas.\n",
        "\n",
        "import numpy as np\n",
        "matriz1 = np.array([[0, 0],\n",
        "                    [0, 0]])\n",
        "matriz2 = np.array([[0, 0],\n",
        "                    [0, 0]])\n",
        "def somaMatriz(m1,m2):\n",
        "  soma = m1 + m2\n",
        "  return print(f'\\nEssa é a soma das matriz \\n{soma}')\n",
        "  print(\"\\nMatriz atualizada:\")\n",
        "  print(soma)\n",
        "\n",
        "def inserirPrimeiraMatriz(matriz):\n",
        "  print(\"Digite os valores para criar a primeira matriz:\")\n",
        "  print(matriz)\n",
        "\n",
        "  for linha in range(matriz.shape[0]):\n",
        "      for coluna in range(matriz.shape[1]):\n",
        "          valor = int(input(f'Digite o valor para a posição ({linha}, {coluna}): '))\n",
        "          matriz[linha, coluna] = valor\n",
        "      matriz[linha, coluna] = valor\n",
        "\n",
        "def inserirSegundaMatriz(matriz):\n",
        "\n",
        "  print(\"Digite os valores para criar a segunda matriz:\")\n",
        "  print(matriz)\n",
        "\n",
        "  for linha in range(matriz.shape[0]):\n",
        "      for coluna in range(matriz.shape[1]):\n",
        "          valor = int(input(f'Digite o valor para a posição ({linha}, {coluna}): '))\n",
        "          matriz[linha, coluna] = valor\n",
        "      matriz[linha, coluna] = valor\n",
        "\n",
        "\n",
        "\n",
        "inserirPrimeiraMatriz(matriz1)\n",
        "inserirSegundaMatriz(matriz2)\n",
        "somaMatriz(matriz1,matriz2)"
      ],
      "metadata": {
        "colab": {
          "base_uri": "https://localhost:8080/"
        },
        "id": "GD8HlZtW6P66",
        "outputId": "6e8f1f8f-c1e1-4c96-ecd5-20d8b711b051"
      },
      "execution_count": null,
      "outputs": [
        {
          "output_type": "stream",
          "name": "stdout",
          "text": [
            "Digite os valores para criar a primeira matriz:\n",
            "[[0 0]\n",
            " [0 0]]\n",
            "Digite o valor para a posição (0, 0): 5\n",
            "Digite o valor para a posição (0, 1): 5\n",
            "Digite o valor para a posição (1, 0): 5\n",
            "Digite o valor para a posição (1, 1): 5\n",
            "Digite os valores para criar a segunda matriz:\n",
            "[[0 0]\n",
            " [0 0]]\n",
            "Digite o valor para a posição (0, 0): 1\n",
            "Digite o valor para a posição (0, 1): 2\n",
            "Digite o valor para a posição (1, 0): 3\n",
            "Digite o valor para a posição (1, 1): 4\n",
            "\n",
            "Essa é a soma das matriz \n",
            "[[6 7]\n",
            " [8 9]]\n"
          ]
        }
      ]
    },
    {
      "cell_type": "code",
      "source": [
        "# 22-Crie uma função que receba um número e retorne o dobro dele.\n",
        "def dobroNum(num):\n",
        "  dobro = num *2\n",
        "  return print(f'O dobro de {num} é {dobro}')\n",
        "while True:\n",
        "  number = input(\"Digite um número para ver o dobro dele ou digite 's' para sair:\")\n",
        "  if number == 's':\n",
        "    print(\"MUITO ORBIGADA \\nATÉ A PRÓXIMA\")\n",
        "    break\n",
        "  dobroNum(int(number))"
      ],
      "metadata": {
        "colab": {
          "base_uri": "https://localhost:8080/"
        },
        "id": "luVNwjhX_bcY",
        "outputId": "e81c56b9-0cf3-4141-c646-a1489b973a78"
      },
      "execution_count": null,
      "outputs": [
        {
          "output_type": "stream",
          "name": "stdout",
          "text": [
            "Digite um número para ver o dobro dele ou digite 's' para sair:5\n",
            "O dobro de 5 é 10\n",
            "Digite um número para ver o dobro dele ou digite 's' para sair:3\n",
            "O dobro de 3 é 6\n",
            "Digite um número para ver o dobro dele ou digite 's' para sair:2\n",
            "O dobro de 2 é 4\n",
            "Digite um número para ver o dobro dele ou digite 's' para sair:s\n",
            "MUITO ORBIGADA \n",
            " ATÉ A PRÓXIMA\n"
          ]
        }
      ]
    },
    {
      "cell_type": "code",
      "source": [
        "# 23-Crie uma função que receba um número e informe se ele é par ou ímpar.\n",
        "def imparPar(num):\n",
        "  if (num %2) == 0:\n",
        "    print(f'{num} é par')\n",
        "  else:\n",
        "    print(f'{num} é impar')\n",
        "\n",
        "while True:\n",
        "  number = input(\"Digite um número para saber se é par ou impar ou digite 's' para sair:\")\n",
        "  if number == 's':\n",
        "    print(\"MUITO ORBIGADA \\nATÉ A PRÓXIMA\")\n",
        "    break\n",
        "  imparPar(int(number))"
      ],
      "metadata": {
        "colab": {
          "base_uri": "https://localhost:8080/"
        },
        "id": "OtxeYFBCCNnk",
        "outputId": "620fbbc6-6efa-4d87-f72b-3c1344df97e5"
      },
      "execution_count": null,
      "outputs": [
        {
          "output_type": "stream",
          "name": "stdout",
          "text": [
            "Digite um número para saber se é par ou impar ou digite 's' para sair:5\n",
            "5 é impar\n",
            "Digite um número para saber se é par ou impar ou digite 's' para sair:10\n",
            "10 é par\n",
            "Digite um número para saber se é par ou impar ou digite 's' para sair:100\n",
            "100 é par\n",
            "Digite um número para saber se é par ou impar ou digite 's' para sair:1501\n",
            "1501 é impar\n",
            "Digite um número para saber se é par ou impar ou digite 's' para sair:50132348556\n",
            "50132348556 é par\n",
            "Digite um número para saber se é par ou impar ou digite 's' para sair:s\n",
            "MUITO ORBIGADA \n",
            "ATÉ A PRÓXIMA\n"
          ]
        }
      ]
    },
    {
      "cell_type": "code",
      "source": [
        "# 24-Crie uma função que receba uma lista de números e retorne a soma de todos\n",
        "# # os números ímpares da lista.\n",
        "def somaListaImpar(lista):\n",
        "  sumI=0\n",
        "  for i in lista:\n",
        "    if (i%2) != 0:\n",
        "      sumI += i\n",
        "  print(sumI)\n",
        "\n",
        "somaListaImpar([3,6,9,12,15])"
      ],
      "metadata": {
        "colab": {
          "base_uri": "https://localhost:8080/"
        },
        "id": "qUEkezyJD852",
        "outputId": "d38496a8-7195-4d2d-f0f0-ca46201b1ebc"
      },
      "execution_count": null,
      "outputs": [
        {
          "output_type": "stream",
          "name": "stdout",
          "text": [
            "27\n"
          ]
        }
      ]
    },
    {
      "cell_type": "code",
      "source": [
        "# 25-Peça ao usuário para inserir um número e calcule sua raiz quadrada usando a\n",
        "# biblioteca math.\n",
        "import math #é uma bablioteca mt utilizada para cálculos\n",
        "def raizQuadrada(num):\n",
        "  # sqrt = a função que calcula a raiz\n",
        "  raiz = math.sqrt(num)\n",
        "  return print(f\"A raiz quadrada de {num} é {raiz}\")\n",
        "\n",
        "while True:\n",
        "  number = input(\"Digite um número para saber a sua raiz ou digite 's' para sair:\")\n",
        "  if number == 's':\n",
        "    print(\"MUITO ORBIGADA \\nATÉ A PRÓXIMA\")\n",
        "    break\n",
        "  raizQuadrada(int(number))"
      ],
      "metadata": {
        "colab": {
          "base_uri": "https://localhost:8080/"
        },
        "id": "i8ak3p3PFwv4",
        "outputId": "33f73144-13ef-4983-b4a6-0951b4307fe1"
      },
      "execution_count": null,
      "outputs": [
        {
          "output_type": "stream",
          "name": "stdout",
          "text": [
            "Digite um número para saber a sua raiz ou digite 's' para sair:2\n",
            "A raiz quadrada de 2 é 1.4142135623730951\n",
            "Digite um número para saber a sua raiz ou digite 's' para sair:4\n",
            "A raiz quadrada de 4 é 2.0\n",
            "Digite um número para saber a sua raiz ou digite 's' para sair:6\n",
            "A raiz quadrada de 6 é 2.449489742783178\n",
            "Digite um número para saber a sua raiz ou digite 's' para sair:9\n",
            "A raiz quadrada de 9 é 3.0\n",
            "Digite um número para saber a sua raiz ou digite 's' para sair:16\n",
            "A raiz quadrada de 16 é 4.0\n",
            "Digite um número para saber a sua raiz ou digite 's' para sair:25\n",
            "A raiz quadrada de 25 é 5.0\n",
            "Digite um número para saber a sua raiz ou digite 's' para sair:s\n",
            "MUITO ORBIGADA \n",
            "ATÉ A PRÓXIMA\n"
          ]
        }
      ]
    },
    {
      "cell_type": "code",
      "source": [
        "# 26-Peça ao usuário para inserir uma data no formato dd/mm/aaaa e exiba o dia da\n",
        "# semana correspondente.\n",
        "import datetime\n",
        "\n",
        "dias_da_semana = [\"segunda-feira\", \"terça-feira\", \"quarta-feira\", \"quinta-feira\", \"sexta-feira\", \"sábado\", \"domingo\"]\n",
        "\n",
        "data_input = input(\"Digite uma data no formato dd/mm/aaaa: \")\n",
        "\n",
        "data = datetime.datetime.strptime(data_input, '%d/%m/%Y')\n",
        "\n",
        "numero_dia = data.weekday()\n",
        "\n",
        "print(f\"O dia da semana correspondente é: {dias_da_semana[numero_dia]}\")\n"
      ],
      "metadata": {
        "colab": {
          "base_uri": "https://localhost:8080/"
        },
        "id": "XRkvkX0zR3An",
        "outputId": "9dcdedbb-745d-45ef-852c-4fb54c02c280"
      },
      "execution_count": 9,
      "outputs": [
        {
          "output_type": "stream",
          "name": "stdout",
          "text": [
            "Digite uma data no formato dd/mm/aaaa: 26/12/2007\n",
            "O dia da semana correspondente é: quarta-feira\n"
          ]
        }
      ]
    },
    {
      "cell_type": "code",
      "source": [
        "# 27-Solicite ao usuário um número e exiba um valor aleatório entre 1 e esse\n",
        "# número.\n",
        "import random\n",
        "\n",
        "num = int(input(\"Digite um número: \"))\n",
        "numero_aleatorio = random.randint(1, num)\n",
        "\n",
        "print(numero_aleatorio)\n",
        "print(num)\n"
      ],
      "metadata": {
        "colab": {
          "base_uri": "https://localhost:8080/"
        },
        "id": "PmuJXKiMUEfV",
        "outputId": "e6e8be4d-84bc-4b80-d176-59f95eef3b15"
      },
      "execution_count": 20,
      "outputs": [
        {
          "output_type": "stream",
          "name": "stdout",
          "text": [
            "Digite um número: 10\n",
            "10\n",
            "10\n"
          ]
        }
      ]
    },
    {
      "cell_type": "code",
      "source": [
        "# 28-Use o módulo random para gerar uma lista com 5 números aleatórios entre 1 e\n",
        "# 100 e exibi-los.\n",
        "\n",
        "listaNum = []\n",
        "for i in range(5):\n",
        "  listaNum.append(random.randint(1,100))\n",
        "print(listaNum)"
      ],
      "metadata": {
        "colab": {
          "base_uri": "https://localhost:8080/"
        },
        "id": "mPeEgtchV2UZ",
        "outputId": "9e429695-27d6-407c-87fc-48a6aab6607f"
      },
      "execution_count": 21,
      "outputs": [
        {
          "output_type": "stream",
          "name": "stdout",
          "text": [
            "[97, 78, 12, 79, 13]\n"
          ]
        }
      ]
    },
    {
      "cell_type": "code",
      "source": [
        "# 29-Simule o lançamento de um dado (números de 1 a 6) e exiba o resultado após\n",
        "# uma pausa de 2 segundos.\n",
        "import time\n",
        "\n",
        "while True:\n",
        "    print(\"O dado foi jogado e o número que saiu foi: \")\n",
        "    numero_dado = random.randint(1, 6)\n",
        "\n",
        "    time.sleep(2.0)\n",
        "    print(numero_dado)\n",
        "\n",
        "    dnovo = input(\"Deseja jogar o dado de novo? (s/n): \")\n",
        "    if dnovo.lower() != \"s\":\n",
        "      break"
      ],
      "metadata": {
        "colab": {
          "base_uri": "https://localhost:8080/"
        },
        "id": "u1MPCI63ZRK9",
        "outputId": "d2ddc0a7-d1a8-48f2-eb8a-f3aa9b31d476"
      },
      "execution_count": 34,
      "outputs": [
        {
          "name": "stdout",
          "output_type": "stream",
          "text": [
            "O dado foi jogado e o número que saiu foi: \n",
            "4\n",
            "Deseja jogar o dado de novo? (s/n): s\n",
            "O dado foi jogado e o número que saiu foi: \n",
            "6\n",
            "Deseja jogar o dado de novo? (s/n): n\n"
          ]
        }
      ]
    },
    {
      "cell_type": "code",
      "source": [
        "# 30-Crie um programa que crie e escreva a frase \"Python é incrível!\" em um arquivo\n",
        "# chamado texto.txt.\n",
        "arquivo = open(\"texto.txt\", \"w\")\n",
        "arquivo.write(\"Python é incrível!\")\n",
        "arquivo.close()"
      ],
      "metadata": {
        "id": "QpsfPyNpcXkt"
      },
      "execution_count": 37,
      "outputs": []
    },
    {
      "cell_type": "code",
      "source": [
        "# 31-Crie um programa que leia o arquivo texto.txt e exiba o conteúdo na tela.\n",
        "# Abre o arquivo em modo leitura ('r')\n",
        "arquivo = open(\"texto.txt\", \"r\")\n",
        "\n",
        "# Lê todo o conteúdo do arquivo\n",
        "conteudo = arquivo.read()\n",
        "\n",
        "# Exibe o conteúdo lido\n",
        "print(conteudo)\n",
        "\n",
        "# Fecha o arquivo após a leitura\n",
        "arquivo.close()\n"
      ],
      "metadata": {
        "colab": {
          "base_uri": "https://localhost:8080/"
        },
        "id": "gWpyjer2gTQn",
        "outputId": "1b49d824-2b40-44f5-f687-b8b7a80d4c64"
      },
      "execution_count": 40,
      "outputs": [
        {
          "output_type": "stream",
          "name": "stdout",
          "text": [
            "Python é incrível!\n"
          ]
        }
      ]
    },
    {
      "cell_type": "code",
      "source": [
        "# 32-Peça ao usuário para inserir um nome e um telefone e armazene-os em um\n",
        "# arquivo chamado contatos.txt.\n",
        "nome = input(\"Digite seu nome:\")\n",
        "telefone = input(\"Digite seu telefone\")\n",
        "dados_pessoais = f\"Nome: {nome}\\nTelefone: {telefone}\\n{'-'*30}\\n\"\n",
        "\n",
        "\n",
        "arquivo = open(\"contatos.txt\", \"w\")\n",
        "arquivo.write(dados_pessoais)\n",
        "arquivo.close()"
      ],
      "metadata": {
        "colab": {
          "base_uri": "https://localhost:8080/"
        },
        "id": "0mMxYcY1puiJ",
        "outputId": "ca5e47bc-e727-449e-e609-14986633a1db"
      },
      "execution_count": 44,
      "outputs": [
        {
          "name": "stdout",
          "output_type": "stream",
          "text": [
            "Digite seu nome:casa\n",
            "Digite seu telefone222222222222222222\n"
          ]
        }
      ]
    },
    {
      "cell_type": "code",
      "source": [
        "# 33-Solicite ao usuário um número e tente dividir 100 por ele, tratando o erro caso\n",
        "# seja digitado zero.\n",
        "while True:\n",
        "  numero = int(input(\"Digite um número: \"))\n",
        "\n",
        "  if numero == 0:\n",
        "      print(\"Não é possível dividir 0 por cem.\")\n",
        "  else:\n",
        "      resultado = 100 / numero\n",
        "      resultado_formatado = round(resultado,2)\n",
        "      print(f\"O resultado de 100 dividido por {numero} é {resultado_formatado}\")\n"
      ],
      "metadata": {
        "colab": {
          "base_uri": "https://localhost:8080/",
          "height": 425
        },
        "id": "edhYYuAxrXmb",
        "outputId": "fa2ce51f-9f34-468b-9dae-0449d71d6eeb"
      },
      "execution_count": 54,
      "outputs": [
        {
          "output_type": "stream",
          "name": "stdout",
          "text": [
            "Digite um número: 0\n",
            "Não é possível dividir 0 por cem.\n",
            "Digite um número: 67\n",
            "O resultado de 100 dividido por 67 é 1.49\n"
          ]
        },
        {
          "output_type": "error",
          "ename": "KeyboardInterrupt",
          "evalue": "Interrupted by user",
          "traceback": [
            "\u001b[0;31m---------------------------------------------------------------------------\u001b[0m",
            "\u001b[0;31mKeyboardInterrupt\u001b[0m                         Traceback (most recent call last)",
            "\u001b[0;32m<ipython-input-54-a9ab955d4bc0>\u001b[0m in \u001b[0;36m<cell line: 0>\u001b[0;34m()\u001b[0m\n\u001b[1;32m      2\u001b[0m \u001b[0;31m# seja digitado zero.\u001b[0m\u001b[0;34m\u001b[0m\u001b[0;34m\u001b[0m\u001b[0m\n\u001b[1;32m      3\u001b[0m \u001b[0;32mwhile\u001b[0m \u001b[0;32mTrue\u001b[0m\u001b[0;34m:\u001b[0m\u001b[0;34m\u001b[0m\u001b[0;34m\u001b[0m\u001b[0m\n\u001b[0;32m----> 4\u001b[0;31m   \u001b[0mnumero\u001b[0m \u001b[0;34m=\u001b[0m \u001b[0mint\u001b[0m\u001b[0;34m(\u001b[0m\u001b[0minput\u001b[0m\u001b[0;34m(\u001b[0m\u001b[0;34m\"Digite um número: \"\u001b[0m\u001b[0;34m)\u001b[0m\u001b[0;34m)\u001b[0m\u001b[0;34m\u001b[0m\u001b[0;34m\u001b[0m\u001b[0m\n\u001b[0m\u001b[1;32m      5\u001b[0m \u001b[0;34m\u001b[0m\u001b[0m\n\u001b[1;32m      6\u001b[0m   \u001b[0;32mif\u001b[0m \u001b[0mnumero\u001b[0m \u001b[0;34m==\u001b[0m \u001b[0;36m0\u001b[0m\u001b[0;34m:\u001b[0m\u001b[0;34m\u001b[0m\u001b[0;34m\u001b[0m\u001b[0m\n",
            "\u001b[0;32m/usr/local/lib/python3.11/dist-packages/ipykernel/kernelbase.py\u001b[0m in \u001b[0;36mraw_input\u001b[0;34m(self, prompt)\u001b[0m\n\u001b[1;32m   1175\u001b[0m                 \u001b[0;34m\"raw_input was called, but this frontend does not support input requests.\"\u001b[0m\u001b[0;34m\u001b[0m\u001b[0;34m\u001b[0m\u001b[0m\n\u001b[1;32m   1176\u001b[0m             )\n\u001b[0;32m-> 1177\u001b[0;31m         return self._input_request(\n\u001b[0m\u001b[1;32m   1178\u001b[0m             \u001b[0mstr\u001b[0m\u001b[0;34m(\u001b[0m\u001b[0mprompt\u001b[0m\u001b[0;34m)\u001b[0m\u001b[0;34m,\u001b[0m\u001b[0;34m\u001b[0m\u001b[0;34m\u001b[0m\u001b[0m\n\u001b[1;32m   1179\u001b[0m             \u001b[0mself\u001b[0m\u001b[0;34m.\u001b[0m\u001b[0m_parent_ident\u001b[0m\u001b[0;34m[\u001b[0m\u001b[0;34m\"shell\"\u001b[0m\u001b[0;34m]\u001b[0m\u001b[0;34m,\u001b[0m\u001b[0;34m\u001b[0m\u001b[0;34m\u001b[0m\u001b[0m\n",
            "\u001b[0;32m/usr/local/lib/python3.11/dist-packages/ipykernel/kernelbase.py\u001b[0m in \u001b[0;36m_input_request\u001b[0;34m(self, prompt, ident, parent, password)\u001b[0m\n\u001b[1;32m   1217\u001b[0m             \u001b[0;32mexcept\u001b[0m \u001b[0mKeyboardInterrupt\u001b[0m\u001b[0;34m:\u001b[0m\u001b[0;34m\u001b[0m\u001b[0;34m\u001b[0m\u001b[0m\n\u001b[1;32m   1218\u001b[0m                 \u001b[0;31m# re-raise KeyboardInterrupt, to truncate traceback\u001b[0m\u001b[0;34m\u001b[0m\u001b[0;34m\u001b[0m\u001b[0m\n\u001b[0;32m-> 1219\u001b[0;31m                 \u001b[0;32mraise\u001b[0m \u001b[0mKeyboardInterrupt\u001b[0m\u001b[0;34m(\u001b[0m\u001b[0;34m\"Interrupted by user\"\u001b[0m\u001b[0;34m)\u001b[0m \u001b[0;32mfrom\u001b[0m \u001b[0;32mNone\u001b[0m\u001b[0;34m\u001b[0m\u001b[0;34m\u001b[0m\u001b[0m\n\u001b[0m\u001b[1;32m   1220\u001b[0m             \u001b[0;32mexcept\u001b[0m \u001b[0mException\u001b[0m\u001b[0;34m:\u001b[0m\u001b[0;34m\u001b[0m\u001b[0;34m\u001b[0m\u001b[0m\n\u001b[1;32m   1221\u001b[0m                 \u001b[0mself\u001b[0m\u001b[0;34m.\u001b[0m\u001b[0mlog\u001b[0m\u001b[0;34m.\u001b[0m\u001b[0mwarning\u001b[0m\u001b[0;34m(\u001b[0m\u001b[0;34m\"Invalid Message:\"\u001b[0m\u001b[0;34m,\u001b[0m \u001b[0mexc_info\u001b[0m\u001b[0;34m=\u001b[0m\u001b[0;32mTrue\u001b[0m\u001b[0;34m)\u001b[0m\u001b[0;34m\u001b[0m\u001b[0;34m\u001b[0m\u001b[0m\n",
            "\u001b[0;31mKeyboardInterrupt\u001b[0m: Interrupted by user"
          ]
        }
      ]
    },
    {
      "cell_type": "code",
      "source": [
        "# 34-Peça ao usuário para inserir um número e trate possíveis erros de entrada\n",
        "# (como digitar uma letra no lugar do número).\n",
        "\n",
        "try:\n",
        "    numero = int(input(\"Digite um número: \"))\n",
        "    print(f\"O número inserido foi: {numero}\")\n",
        "except ValueError:\n",
        "    print(\"Erro: Você não digitou um número válido.\")"
      ],
      "metadata": {
        "colab": {
          "base_uri": "https://localhost:8080/"
        },
        "id": "hTh3XkY-vJLY",
        "outputId": "4df134bc-64bd-4c11-d1c7-97d7cd26e7d3"
      },
      "execution_count": 74,
      "outputs": [
        {
          "output_type": "stream",
          "name": "stdout",
          "text": [
            "Digite um número: 6.8\n",
            "Erro: Você não digitou um número válido.\n"
          ]
        }
      ]
    },
    {
      "cell_type": "code",
      "source": [
        "#35-Solicite ao usuário um número inteiro e trate o erro caso ele tente inserir um\n",
        "#valor não numérico. Se a entrada for válida, exiba o quadrado do número.\n",
        "try:\n",
        "    numero = int(input(\"Digite um número: \"))\n",
        "    print(f\"O número inserido foi: {numero*numero}\")\n",
        "except ValueError:\n",
        "    print(\"Erro: Você não digitou um número válido.\")"
      ],
      "metadata": {
        "colab": {
          "base_uri": "https://localhost:8080/"
        },
        "id": "lIFqD5HUw0UE",
        "outputId": "565c40d9-3e90-4904-b811-b2c3bb558bb8"
      },
      "execution_count": 78,
      "outputs": [
        {
          "output_type": "stream",
          "name": "stdout",
          "text": [
            "Digite um número: 4\n",
            "O número inserido foi: 16\n"
          ]
        }
      ]
    }
  ]
}